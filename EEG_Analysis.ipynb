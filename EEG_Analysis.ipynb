{
  "nbformat": 4,
  "nbformat_minor": 0,
  "metadata": {
    "colab": {
      "provenance": [],
      "toc_visible": true,
      "authorship_tag": "ABX9TyOy2zzYquAhGQxnQkCNQuaD",
      "include_colab_link": true
    },
    "kernelspec": {
      "name": "python3",
      "display_name": "Python 3"
    },
    "language_info": {
      "name": "python"
    }
  },
  "cells": [
    {
      "cell_type": "markdown",
      "metadata": {
        "id": "view-in-github",
        "colab_type": "text"
      },
      "source": [
        "<a href=\"https://colab.research.google.com/github/yurim-nam/healthlytics/blob/main/EEG_Analysis.ipynb\" target=\"_parent\"><img src=\"https://colab.research.google.com/assets/colab-badge.svg\" alt=\"Open In Colab\"/></a>"
      ]
    },
    {
      "cell_type": "markdown",
      "source": [
        "# Project 2: EEG Depression Analysis\n",
        "\n",
        "We extract power spectral density features from 128-channel EEG recordings across multiple frequency bands (delta, theta, alpha, beta, gamma) and apply Random Forest classification to identify which brain oscillations are most discriminative between MDD patients and healthy controls, with statistical significance testing via permutation analysis."
      ],
      "metadata": {
        "id": "FkddN47RBkmq"
      }
    },
    {
      "cell_type": "markdown",
      "source": [
        "### Downloading & Organizing Dataset"
      ],
      "metadata": {
        "id": "90cBn8AuCCm8"
      }
    },
    {
      "cell_type": "code",
      "source": [
        "# downloading data\n",
        "!wget -O eeg_data.zip \"https://reshare.ukdataservice.ac.uk/854301/4/854301_EEG_128Channels_Resting_Lanzhou_2015.zip\"\n",
        "!unzip eeg_data.zip -d eeg_data"
      ],
      "metadata": {
        "id": "mUQboS93Bsca"
      },
      "execution_count": null,
      "outputs": []
    },
    {
      "cell_type": "markdown",
      "source": [
        "As we noticed that the EEG files were in .mat (MATLAB) files, we wanted to inspect it before using MNE python."
      ],
      "metadata": {
        "id": "5Z4oz8DnDGRw"
      }
    },
    {
      "cell_type": "code",
      "source": [
        "import scipy.io as sio # needed to read .mat files\n",
        "import numpy as np\n",
        "\n",
        "\n",
        "mat = sio.loadmat(\"/content/eeg_data/EEG_128channels_resting_lanzhou_2015/02010002rest 20150416 1017..mat\", squeeze_me=True, struct_as_record=False)\n",
        "# squeeze_me = True | gets rid of unnecessary singleton dimensions\n",
        "# struct_as_record= False | Ensures MATLAB structs load as Python objects instead of opaque numpy record arrays.\n",
        "# makes sure that MATLAB data is easier to navigate through Python.\n",
        "\n",
        "# Access the MATLAB variable inside\n",
        "data_struct = mat['a02010002rest_20150416_1017mat']\n",
        "\n",
        "# If it's a MATLAB struct, extract the field containing the numeric EEG array\n",
        "# You can check fields with:\n",
        "print(dir(data_struct))\n",
        "\n",
        "# Extract numeric EEG array - verifying data integrity\n",
        "data_array = np.array(data_struct.data)  # shape: (n_electrodes, n_samples)\n",
        "print(\"EEG array shape:\", data_array.shape) # helps confirm dimensions\n",
        "print(\"NaNs:\", np.isnan(data_array).sum()) # checks for missing data\n",
        "print(\"Min/Max:\", np.min(data_array), np.max(data_array)) # shows amplitude range\n",
        "\n",
        "# Sampling rate = shows how many data    points per s    econd were recorded.\n",
        "sfreq = int(mat['samplingRate'])\n",
        "print(\"Sampling rate:\", sfreq)"
      ],
      "metadata": {
        "colab": {
          "base_uri": "https://localhost:8080/"
        },
        "id": "xS-3MGIxDLmb",
        "outputId": "08839bea-329d-4a11-d0d7-386bf432f34b"
      },
      "execution_count": null,
      "outputs": [
        {
          "output_type": "stream",
          "name": "stdout",
          "text": [
            "['T', '__abs__', '__add__', '__and__', '__array__', '__array_finalize__', '__array_function__', '__array_interface__', '__array_namespace__', '__array_priority__', '__array_struct__', '__array_ufunc__', '__array_wrap__', '__bool__', '__buffer__', '__class__', '__class_getitem__', '__complex__', '__contains__', '__copy__', '__deepcopy__', '__delattr__', '__delitem__', '__dir__', '__divmod__', '__dlpack__', '__dlpack_device__', '__doc__', '__eq__', '__float__', '__floordiv__', '__format__', '__ge__', '__getattribute__', '__getitem__', '__getstate__', '__gt__', '__hash__', '__iadd__', '__iand__', '__ifloordiv__', '__ilshift__', '__imatmul__', '__imod__', '__imul__', '__index__', '__init__', '__init_subclass__', '__int__', '__invert__', '__ior__', '__ipow__', '__irshift__', '__isub__', '__iter__', '__itruediv__', '__ixor__', '__le__', '__len__', '__lshift__', '__lt__', '__matmul__', '__mod__', '__mul__', '__ne__', '__neg__', '__new__', '__or__', '__pos__', '__pow__', '__radd__', '__rand__', '__rdivmod__', '__reduce__', '__reduce_ex__', '__repr__', '__rfloordiv__', '__rlshift__', '__rmatmul__', '__rmod__', '__rmul__', '__ror__', '__rpow__', '__rrshift__', '__rshift__', '__rsub__', '__rtruediv__', '__rxor__', '__setattr__', '__setitem__', '__setstate__', '__sizeof__', '__str__', '__sub__', '__subclasshook__', '__truediv__', '__xor__', 'all', 'any', 'argmax', 'argmin', 'argpartition', 'argsort', 'astype', 'base', 'byteswap', 'choose', 'clip', 'compress', 'conj', 'conjugate', 'copy', 'ctypes', 'cumprod', 'cumsum', 'data', 'device', 'diagonal', 'dot', 'dtype', 'dump', 'dumps', 'fill', 'flags', 'flat', 'flatten', 'getfield', 'imag', 'item', 'itemset', 'itemsize', 'mT', 'max', 'mean', 'min', 'nbytes', 'ndim', 'newbyteorder', 'nonzero', 'partition', 'prod', 'ptp', 'put', 'ravel', 'real', 'repeat', 'reshape', 'resize', 'round', 'searchsorted', 'setfield', 'setflags', 'shape', 'size', 'sort', 'squeeze', 'std', 'strides', 'sum', 'swapaxes', 'take', 'to_device', 'tobytes', 'tofile', 'tolist', 'tostring', 'trace', 'transpose', 'var', 'view']\n",
            "EEG array shape: (129, 75189)\n",
            "NaNs: 0\n",
            "Min/Max: -54210.3203125 5620.53564453125\n",
            "Sampling rate: 250\n"
          ]
        }
      ]
    },
    {
      "cell_type": "markdown",
      "source": [
        "Building Raw MNE project\n",
        "\n",
        "We want to do this as we want to use MNE python to work with our data, but in its current state is not compatible with MNE functions. Thus, we're building a Raw object and converting our data in order to use efficiently."
      ],
      "metadata": {
        "id": "4iT_PoGcEK3X"
      }
    },
    {
      "cell_type": "code",
      "source": [
        "!pip install mne # installing mne package"
      ],
      "metadata": {
        "id": "l_q3xdi_EV4J"
      },
      "execution_count": null,
      "outputs": []
    },
    {
      "cell_type": "code",
      "source": [
        "import mne\n",
        "from mne import create_info\n",
        "from mne.io import RawArray"
      ],
      "metadata": {
        "id": "-9hmvuF5EYdx"
      },
      "execution_count": null,
      "outputs": []
    },
    {
      "cell_type": "code",
      "source": [
        "# converts the EEG array to 64-bit floats (float64) for numerical stability in MNE.\n",
        "data = data_array.astype(np.float64)  # shape (129, n_samples)\n",
        "n_channels = data.shape[0]\n",
        "\n",
        "# Create channel names dynamically\n",
        "ch_names = [f\"Ch{i+1}\" for i in range(n_channels)] # creates list of names for each electrode\n",
        "ch_types = ['eeg'] * n_channels # define channel type as EEG\n",
        "\n",
        "# Create MNE info metadata - includes channel names, sampling frequency, and channel types\n",
        "info = mne.create_info(ch_names=ch_names, sfreq=sfreq, ch_types=ch_types)\n",
        "\n",
        "# Build Raw object - allows for filtering and analysis using MNE functions\n",
        "raw = mne.io.RawArray(data, info) # converts numpy EEG array into MNE raw object\n",
        "print(raw)"
      ],
      "metadata": {
        "colab": {
          "base_uri": "https://localhost:8080/"
        },
        "collapsed": true,
        "id": "gEJr9B2REMf4",
        "outputId": "b876cec7-f87c-46e7-e742-8776879673a2"
      },
      "execution_count": null,
      "outputs": [
        {
          "output_type": "stream",
          "name": "stdout",
          "text": [
            "Creating RawArray with float64 data, n_channels=129, n_times=75189\n",
            "    Range : 0 ... 75188 =      0.000 ...   300.752 secs\n",
            "Ready.\n",
            "<RawArray | 129 x 75189 (300.8 s), ~74.1 MiB, data loaded>\n"
          ]
        }
      ]
    },
    {
      "cell_type": "code",
      "source": [
        "# helps us restrict to the 128 EEG channels only\n",
        "raw = mne.io.RawArray(data[:128, :], mne.create_info(\n",
        "    ch_names=[f\"Ch{i+1}\" for i in range(128)],\n",
        "    sfreq=sfreq,\n",
        "    ch_types=['eeg']*128\n",
        "))"
      ],
      "metadata": {
        "colab": {
          "base_uri": "https://localhost:8080/"
        },
        "collapsed": true,
        "id": "dvetzoJALwC-",
        "outputId": "f02e2c1c-0927-4a9f-f632-a0326df1c34a"
      },
      "execution_count": null,
      "outputs": [
        {
          "output_type": "stream",
          "name": "stdout",
          "text": [
            "Creating RawArray with float64 data, n_channels=128, n_times=75189\n",
            "    Range : 0 ... 75188 =      0.000 ...   300.752 secs\n",
            "Ready.\n"
          ]
        }
      ]
    },
    {
      "cell_type": "markdown",
      "source": [
        "### Preprocessing the Data\n",
        "\n",
        "In the code chunk below, we set band freuqncy for different wave types in EEG that we wish to explore. Our data has also been organized to where we can identify each EEG data towards correct patients with MDD or healthy control patients."
      ],
      "metadata": {
        "id": "hkY1c_JRMYzQ"
      }
    },
    {
      "cell_type": "code",
      "source": [
        "# setting band frequency width for different wave types in EEG\n",
        "bands = {\n",
        "    'delta': (1, 4),\n",
        "    'theta': (4, 8),\n",
        "    'alpha': (8, 13),\n",
        "    'beta': (13, 30),\n",
        "    'gamma': (30, 45)\n",
        "}"
      ],
      "metadata": {
        "id": "crpyzgt-McZv"
      },
      "execution_count": null,
      "outputs": []
    },
    {
      "cell_type": "markdown",
      "source": [
        "Organizing data for separation"
      ],
      "metadata": {
        "id": "HcagMh5vODen"
      }
    },
    {
      "cell_type": "code",
      "source": [
        "import glob # glob finds file paths matching a pattern\n",
        "\n",
        "# Path to your folder with MAT files\n",
        "folder_path = \"/content/eeg_data/EEG_128channels_resting_lanzhou_2015/\"\n",
        "\n",
        "# Get list of all MAT files in the folder\n",
        "all_mat_files = glob.glob(folder_path + \"*.mat\") # collects all .mat files\n",
        "print(f\"Found {len(all_mat_files)} files\")\n",
        "print(all_mat_files[:5])  # show first 5 files"
      ],
      "metadata": {
        "colab": {
          "base_uri": "https://localhost:8080/"
        },
        "id": "tBa-0MEPNt4R",
        "outputId": "b3dc1a54-189e-4812-eca6-80b331535fc6"
      },
      "execution_count": null,
      "outputs": [
        {
          "output_type": "stream",
          "name": "stdout",
          "text": [
            "Found 53 files\n",
            "['/content/eeg_data/EEG_128channels_resting_lanzhou_2015/02020016rest 20150701 1040..mat', '/content/eeg_data/EEG_128channels_resting_lanzhou_2015/02030018_rest 20151208 1443.mat', '/content/eeg_data/EEG_128channels_resting_lanzhou_2015/02020023restnew 20150709 10.mat', '/content/eeg_data/EEG_128channels_resting_lanzhou_2015/02030002rest_new 20151022 1.mat', '/content/eeg_data/EEG_128channels_resting_lanzhou_2015/02020022rest 20150707 1452..mat']\n"
          ]
        }
      ]
    },
    {
      "cell_type": "code",
      "source": [
        "# Loading subject metadata - MDD vs HC patient labeling\n",
        "\n",
        "import os\n",
        "\n",
        "import pandas as pd\n",
        "\n",
        "# Load the Excel file\n",
        "df_labels = pd.read_excel(\"/content/eeg_data/EEG_128channels_resting_lanzhou_2015/subjects_information_EEG_128channels_resting_lanzhou_2015.xlsx\")  # columns: subject_id, type\n",
        "\n",
        "# Strip spaces from column names\n",
        "df_labels = df_labels.rename(columns=lambda x: x.strip().replace(\" \", \"_\").lower())\n",
        "\n",
        "# Ensure IDs are strings and remove any leading apostrophe\n",
        "df_labels['subject_id'] = df_labels['subject_id'].astype(str).str.lstrip(\"'\")\n",
        "\n",
        "# Check\n",
        "print(df_labels.head())\n",
        "\n",
        "# Convert to dictionary for easy lookup\n",
        "label_dict = dict(zip(df_labels['subject_id'], df_labels['type']))\n",
        "\n",
        "# Quick check\n",
        "# print(label_dict['02010002'])  # should print 'MDD'\n",
        "print(label_dict['2010002'])  # should print 'MDD'\n",
        "\n"
      ],
      "metadata": {
        "colab": {
          "base_uri": "https://localhost:8080/"
        },
        "collapsed": true,
        "id": "tHfzOuBgOK93",
        "outputId": "0fff07a9-edf2-4914-e683-395b6cd442bf"
      },
      "execution_count": null,
      "outputs": [
        {
          "output_type": "stream",
          "name": "stdout",
          "text": [
            "  subject_id type  age gender  education（years）  phq-9  ctq-sf  les  ssrs  \\\n",
            "0    2010002  MDD   18      F                12     23      77 -143    31   \n",
            "1    2010004  MDD   25      F                19     12      53  -44    38   \n",
            "2    2010005  MDD   20      M                16     19      49   -3    28   \n",
            "3    2010006  MDD   42      M                16     16      59  -30    40   \n",
            "4    2010008  MDD   42      M                12     17      66  -71    44   \n",
            "\n",
            "   gad-7  psqi  unnamed:_11                              unnamed:_12  \n",
            "0     18    12          NaN                             abbreviation  \n",
            "1     13    11          NaN          MDD = Major Depressive Disorder  \n",
            "2     11     5          NaN                     HC = Healthy Control  \n",
            "3     12     9          NaN     PHQ-9 = Patient Health Questionnaire  \n",
            "4     18    13          NaN  CTQ-SF = Childhood Trauma Questionnaire  \n",
            "MDD\n"
          ]
        }
      ]
    },
    {
      "cell_type": "markdown",
      "source": [
        "### EEG Data Processing\n",
        "The following code executes these orders chronologically:\n",
        "1.   Read brain wave files (.mat files)\n",
        "2.   Identifies person and whether they have depression or are healthy\n",
        "3.   Removes electrical noise and interference (raw.filter)\n",
        "4.   Breaks down brain waves by frequency\n",
        "5.   Measures brain wave strength at each 128 electrodes\n",
        "6.   Creates a data table that organizes the information\n",
        "\n"
      ],
      "metadata": {
        "id": "Ma0lwb47j4Fu"
      }
    },
    {
      "cell_type": "code",
      "source": [
        "import pandas as pd\n",
        "\n",
        "features = []\n",
        "for f in all_mat_files:\n",
        "    basename = os.path.basename(f)\n",
        "    subj_id_from_file = basename[:8].lstrip(\"0\")  # match Excel IDs\n",
        "    group_label = label_dict.get(subj_id_from_file, \"Unknown\")\n",
        "\n",
        "    # Load .mat\n",
        "    mat = sio.loadmat(f, squeeze_me=True, struct_as_record=False)\n",
        "    eeg_var_name = [k for k in mat.keys() if not k.startswith(\"__\") and k != 'samplingRate'][0]\n",
        "    data_struct = mat[eeg_var_name]\n",
        "    data_array = np.array(data_struct.data)  # (128, n_samples)\n",
        "    sfreq = int(mat['samplingRate'])\n",
        "\n",
        "    # Create MNE RawArray\n",
        "    ch_names = [f\"E{i+1}\" for i in range(data_array.shape[0])]\n",
        "    ch_types = ['eeg'] * data_array.shape[0]\n",
        "    info = mne.create_info(ch_names=ch_names, sfreq=sfreq, ch_types=ch_types)\n",
        "    raw = mne.io.RawArray(data_array, info)\n",
        "    raw.filter(1, 45, fir_design='firwin', verbose=False)\n",
        "\n",
        "    # Compute PSD\n",
        "    psd = raw.compute_psd(fmin=1, fmax=45, n_fft=1024, method='welch', average='mean')\n",
        "    psds = psd.get_data()\n",
        "    freqs = psd.freqs\n",
        "\n",
        "    # Compute bandpower per channel\n",
        "    band_powers = {}\n",
        "    for band_name, (fmin, fmax) in bands.items():\n",
        "        idx = (freqs >= fmin) & (freqs <= fmax)\n",
        "        band_powers[band_name] = psds[:, idx].mean(axis=1)\n",
        "\n",
        "    # Build feature vector\n",
        "    row = {\"subject\": subj_id_from_file, \"group\": group_label}\n",
        "    for band_name, values in band_powers.items():\n",
        "        for ch_idx, val in enumerate(values):\n",
        "            row[f\"E{ch_idx+1}_{band_name}\"] = val\n",
        "    features.append(row)\n",
        "\n",
        "# Convert to DataFrame\n",
        "df_features = pd.DataFrame(features)\n",
        "print(df_features.shape)\n",
        "print(df_features.head())"
      ],
      "metadata": {
        "colab": {
          "base_uri": "https://localhost:8080/"
        },
        "id": "30Ef2LY9Nc6q",
        "outputId": "fab26577-8caf-4306-c633-aa50e137971a",
        "collapsed": true
      },
      "execution_count": null,
      "outputs": [
        {
          "output_type": "stream",
          "name": "stdout",
          "text": [
            "Creating RawArray with float64 data, n_channels=129, n_times=75101\n",
            "    Range : 0 ... 75100 =      0.000 ...   300.400 secs\n",
            "Ready.\n",
            "Effective window size : 4.096 (s)\n",
            "Creating RawArray with float64 data, n_channels=129, n_times=75164\n"
          ]
        },
        {
          "output_type": "stream",
          "name": "stderr",
          "text": [
            "/tmp/ipython-input-1134258696.py:24: UserWarning: Zero value in spectrum for channel E129\n",
            "  psd = raw.compute_psd(fmin=1, fmax=45, n_fft=1024, method='welch', average='mean')\n"
          ]
        },
        {
          "output_type": "stream",
          "name": "stdout",
          "text": [
            "    Range : 0 ... 75163 =      0.000 ...   300.652 secs\n",
            "Ready.\n",
            "Effective window size : 4.096 (s)\n",
            "Creating RawArray with float64 data, n_channels=129, n_times=75201\n",
            "    Range : 0 ... 75200 =      0.000 ...   300.800 secs\n",
            "Ready.\n"
          ]
        },
        {
          "output_type": "stream",
          "name": "stderr",
          "text": [
            "/tmp/ipython-input-1134258696.py:24: UserWarning: Zero value in spectrum for channel E129\n",
            "  psd = raw.compute_psd(fmin=1, fmax=45, n_fft=1024, method='welch', average='mean')\n"
          ]
        },
        {
          "output_type": "stream",
          "name": "stdout",
          "text": [
            "Effective window size : 4.096 (s)\n",
            "Creating RawArray with float64 data, n_channels=129, n_times=75525\n",
            "    Range : 0 ... 75524 =      0.000 ...   302.096 secs\n",
            "Ready.\n"
          ]
        },
        {
          "output_type": "stream",
          "name": "stderr",
          "text": [
            "/tmp/ipython-input-1134258696.py:24: UserWarning: Zero value in spectrum for channel E129\n",
            "  psd = raw.compute_psd(fmin=1, fmax=45, n_fft=1024, method='welch', average='mean')\n"
          ]
        },
        {
          "output_type": "stream",
          "name": "stdout",
          "text": [
            "Effective window size : 4.096 (s)\n",
            "Creating RawArray with float64 data, n_channels=129, n_times=75139\n",
            "    Range : 0 ... 75138 =      0.000 ...   300.552 secs\n",
            "Ready.\n"
          ]
        },
        {
          "output_type": "stream",
          "name": "stderr",
          "text": [
            "/tmp/ipython-input-1134258696.py:24: UserWarning: Zero value in spectrum for channel E129\n",
            "  psd = raw.compute_psd(fmin=1, fmax=45, n_fft=1024, method='welch', average='mean')\n"
          ]
        },
        {
          "output_type": "stream",
          "name": "stdout",
          "text": [
            "Effective window size : 4.096 (s)\n",
            "Creating RawArray with float64 data, n_channels=129, n_times=83164\n",
            "    Range : 0 ... 83163 =      0.000 ...   332.652 secs\n",
            "Ready.\n"
          ]
        },
        {
          "output_type": "stream",
          "name": "stderr",
          "text": [
            "/tmp/ipython-input-1134258696.py:24: UserWarning: Zero value in spectrum for channel E129\n",
            "  psd = raw.compute_psd(fmin=1, fmax=45, n_fft=1024, method='welch', average='mean')\n"
          ]
        },
        {
          "output_type": "stream",
          "name": "stdout",
          "text": [
            "Effective window size : 4.096 (s)\n",
            "Creating RawArray with float64 data, n_channels=129, n_times=76039\n",
            "    Range : 0 ... 76038 =      0.000 ...   304.152 secs\n",
            "Ready.\n"
          ]
        },
        {
          "output_type": "stream",
          "name": "stderr",
          "text": [
            "/tmp/ipython-input-1134258696.py:24: UserWarning: Zero value in spectrum for channel E129\n",
            "  psd = raw.compute_psd(fmin=1, fmax=45, n_fft=1024, method='welch', average='mean')\n"
          ]
        },
        {
          "output_type": "stream",
          "name": "stdout",
          "text": [
            "Effective window size : 4.096 (s)\n",
            "Creating RawArray with float64 data, n_channels=129, n_times=75126\n",
            "    Range : 0 ... 75125 =      0.000 ...   300.500 secs\n",
            "Ready.\n"
          ]
        },
        {
          "output_type": "stream",
          "name": "stderr",
          "text": [
            "/tmp/ipython-input-1134258696.py:24: UserWarning: Zero value in spectrum for channel E129\n",
            "  psd = raw.compute_psd(fmin=1, fmax=45, n_fft=1024, method='welch', average='mean')\n"
          ]
        },
        {
          "output_type": "stream",
          "name": "stdout",
          "text": [
            "Effective window size : 4.096 (s)\n",
            "Creating RawArray with float64 data, n_channels=129, n_times=75139\n",
            "    Range : 0 ... 75138 =      0.000 ...   300.552 secs\n",
            "Ready.\n"
          ]
        },
        {
          "output_type": "stream",
          "name": "stderr",
          "text": [
            "/tmp/ipython-input-1134258696.py:24: UserWarning: Zero value in spectrum for channel E129\n",
            "  psd = raw.compute_psd(fmin=1, fmax=45, n_fft=1024, method='welch', average='mean')\n"
          ]
        },
        {
          "output_type": "stream",
          "name": "stdout",
          "text": [
            "Effective window size : 4.096 (s)\n",
            "Creating RawArray with float64 data, n_channels=129, n_times=75158\n",
            "    Range : 0 ... 75157 =      0.000 ...   300.628 secs\n",
            "Ready.\n"
          ]
        },
        {
          "output_type": "stream",
          "name": "stderr",
          "text": [
            "/tmp/ipython-input-1134258696.py:24: UserWarning: Zero value in spectrum for channel E129\n",
            "  psd = raw.compute_psd(fmin=1, fmax=45, n_fft=1024, method='welch', average='mean')\n"
          ]
        },
        {
          "output_type": "stream",
          "name": "stdout",
          "text": [
            "Effective window size : 4.096 (s)\n",
            "Creating RawArray with float64 data, n_channels=129, n_times=75126\n",
            "    Range : 0 ... 75125 =      0.000 ...   300.500 secs\n",
            "Ready.\n"
          ]
        },
        {
          "output_type": "stream",
          "name": "stderr",
          "text": [
            "/tmp/ipython-input-1134258696.py:24: UserWarning: Zero value in spectrum for channel E129\n",
            "  psd = raw.compute_psd(fmin=1, fmax=45, n_fft=1024, method='welch', average='mean')\n"
          ]
        },
        {
          "output_type": "stream",
          "name": "stdout",
          "text": [
            "Effective window size : 4.096 (s)\n",
            "Creating RawArray with float64 data, n_channels=129, n_times=75189\n",
            "    Range : 0 ... 75188 =      0.000 ...   300.752 secs\n",
            "Ready.\n"
          ]
        },
        {
          "output_type": "stream",
          "name": "stderr",
          "text": [
            "/tmp/ipython-input-1134258696.py:24: UserWarning: Zero value in spectrum for channel E129\n",
            "  psd = raw.compute_psd(fmin=1, fmax=45, n_fft=1024, method='welch', average='mean')\n"
          ]
        },
        {
          "output_type": "stream",
          "name": "stdout",
          "text": [
            "Effective window size : 4.096 (s)\n",
            "Creating RawArray with float64 data, n_channels=129, n_times=75114\n",
            "    Range : 0 ... 75113 =      0.000 ...   300.452 secs\n",
            "Ready.\n"
          ]
        },
        {
          "output_type": "stream",
          "name": "stderr",
          "text": [
            "/tmp/ipython-input-1134258696.py:24: UserWarning: Zero value in spectrum for channel E129\n",
            "  psd = raw.compute_psd(fmin=1, fmax=45, n_fft=1024, method='welch', average='mean')\n"
          ]
        },
        {
          "output_type": "stream",
          "name": "stdout",
          "text": [
            "Effective window size : 4.096 (s)\n",
            "Creating RawArray with float64 data, n_channels=129, n_times=83876\n",
            "    Range : 0 ... 83875 =      0.000 ...   335.500 secs\n",
            "Ready.\n"
          ]
        },
        {
          "output_type": "stream",
          "name": "stderr",
          "text": [
            "/tmp/ipython-input-1134258696.py:24: UserWarning: Zero value in spectrum for channel E129\n",
            "  psd = raw.compute_psd(fmin=1, fmax=45, n_fft=1024, method='welch', average='mean')\n"
          ]
        },
        {
          "output_type": "stream",
          "name": "stdout",
          "text": [
            "Effective window size : 4.096 (s)\n",
            "Creating RawArray with float64 data, n_channels=129, n_times=75401\n",
            "    Range : 0 ... 75400 =      0.000 ...   301.600 secs\n",
            "Ready.\n"
          ]
        },
        {
          "output_type": "stream",
          "name": "stderr",
          "text": [
            "/tmp/ipython-input-1134258696.py:24: UserWarning: Zero value in spectrum for channel E129\n",
            "  psd = raw.compute_psd(fmin=1, fmax=45, n_fft=1024, method='welch', average='mean')\n"
          ]
        },
        {
          "output_type": "stream",
          "name": "stdout",
          "text": [
            "Effective window size : 4.096 (s)\n",
            "Creating RawArray with float64 data, n_channels=129, n_times=75652\n",
            "    Range : 0 ... 75651 =      0.000 ...   302.604 secs\n",
            "Ready.\n"
          ]
        },
        {
          "output_type": "stream",
          "name": "stderr",
          "text": [
            "/tmp/ipython-input-1134258696.py:24: UserWarning: Zero value in spectrum for channel E129\n",
            "  psd = raw.compute_psd(fmin=1, fmax=45, n_fft=1024, method='welch', average='mean')\n"
          ]
        },
        {
          "output_type": "stream",
          "name": "stdout",
          "text": [
            "Effective window size : 4.096 (s)\n",
            "Creating RawArray with float64 data, n_channels=129, n_times=75151\n",
            "    Range : 0 ... 75150 =      0.000 ...   300.600 secs\n",
            "Ready.\n"
          ]
        },
        {
          "output_type": "stream",
          "name": "stderr",
          "text": [
            "/tmp/ipython-input-1134258696.py:24: UserWarning: Zero value in spectrum for channel E129\n",
            "  psd = raw.compute_psd(fmin=1, fmax=45, n_fft=1024, method='welch', average='mean')\n"
          ]
        },
        {
          "output_type": "stream",
          "name": "stdout",
          "text": [
            "Effective window size : 4.096 (s)\n",
            "Creating RawArray with float64 data, n_channels=129, n_times=75389\n",
            "    Range : 0 ... 75388 =      0.000 ...   301.552 secs\n",
            "Ready.\n"
          ]
        },
        {
          "output_type": "stream",
          "name": "stderr",
          "text": [
            "/tmp/ipython-input-1134258696.py:24: UserWarning: Zero value in spectrum for channel E129\n",
            "  psd = raw.compute_psd(fmin=1, fmax=45, n_fft=1024, method='welch', average='mean')\n"
          ]
        },
        {
          "output_type": "stream",
          "name": "stdout",
          "text": [
            "Effective window size : 4.096 (s)\n",
            "Creating RawArray with float64 data, n_channels=129, n_times=75163\n",
            "    Range : 0 ... 75162 =      0.000 ...   300.648 secs\n",
            "Ready.\n"
          ]
        },
        {
          "output_type": "stream",
          "name": "stderr",
          "text": [
            "/tmp/ipython-input-1134258696.py:24: UserWarning: Zero value in spectrum for channel E129\n",
            "  psd = raw.compute_psd(fmin=1, fmax=45, n_fft=1024, method='welch', average='mean')\n"
          ]
        },
        {
          "output_type": "stream",
          "name": "stdout",
          "text": [
            "Effective window size : 4.096 (s)\n",
            "Creating RawArray with float64 data, n_channels=129, n_times=75513\n",
            "    Range : 0 ... 75512 =      0.000 ...   302.048 secs\n",
            "Ready.\n"
          ]
        },
        {
          "output_type": "stream",
          "name": "stderr",
          "text": [
            "/tmp/ipython-input-1134258696.py:24: UserWarning: Zero value in spectrum for channel E129\n",
            "  psd = raw.compute_psd(fmin=1, fmax=45, n_fft=1024, method='welch', average='mean')\n"
          ]
        },
        {
          "output_type": "stream",
          "name": "stdout",
          "text": [
            "Effective window size : 4.096 (s)\n",
            "Creating RawArray with float64 data, n_channels=129, n_times=75114\n",
            "    Range : 0 ... 75113 =      0.000 ...   300.452 secs\n",
            "Ready.\n"
          ]
        },
        {
          "output_type": "stream",
          "name": "stderr",
          "text": [
            "/tmp/ipython-input-1134258696.py:24: UserWarning: Zero value in spectrum for channel E129\n",
            "  psd = raw.compute_psd(fmin=1, fmax=45, n_fft=1024, method='welch', average='mean')\n"
          ]
        },
        {
          "output_type": "stream",
          "name": "stdout",
          "text": [
            "Effective window size : 4.096 (s)\n",
            "Creating RawArray with float64 data, n_channels=129, n_times=75127\n",
            "    Range : 0 ... 75126 =      0.000 ...   300.504 secs\n",
            "Ready.\n"
          ]
        },
        {
          "output_type": "stream",
          "name": "stderr",
          "text": [
            "/tmp/ipython-input-1134258696.py:24: UserWarning: Zero value in spectrum for channel E129\n",
            "  psd = raw.compute_psd(fmin=1, fmax=45, n_fft=1024, method='welch', average='mean')\n"
          ]
        },
        {
          "output_type": "stream",
          "name": "stdout",
          "text": [
            "Effective window size : 4.096 (s)\n",
            "Creating RawArray with float64 data, n_channels=129, n_times=75376\n",
            "    Range : 0 ... 75375 =      0.000 ...   301.500 secs\n",
            "Ready.\n"
          ]
        },
        {
          "output_type": "stream",
          "name": "stderr",
          "text": [
            "/tmp/ipython-input-1134258696.py:24: UserWarning: Zero value in spectrum for channel E129\n",
            "  psd = raw.compute_psd(fmin=1, fmax=45, n_fft=1024, method='welch', average='mean')\n"
          ]
        },
        {
          "output_type": "stream",
          "name": "stdout",
          "text": [
            "Effective window size : 4.096 (s)\n",
            "Creating RawArray with float64 data, n_channels=129, n_times=75351\n",
            "    Range : 0 ... 75350 =      0.000 ...   301.400 secs\n",
            "Ready.\n"
          ]
        },
        {
          "output_type": "stream",
          "name": "stderr",
          "text": [
            "/tmp/ipython-input-1134258696.py:24: UserWarning: Zero value in spectrum for channel E129\n",
            "  psd = raw.compute_psd(fmin=1, fmax=45, n_fft=1024, method='welch', average='mean')\n"
          ]
        },
        {
          "output_type": "stream",
          "name": "stdout",
          "text": [
            "Effective window size : 4.096 (s)\n",
            "Creating RawArray with float64 data, n_channels=129, n_times=75114\n",
            "    Range : 0 ... 75113 =      0.000 ...   300.452 secs\n",
            "Ready.\n"
          ]
        },
        {
          "output_type": "stream",
          "name": "stderr",
          "text": [
            "/tmp/ipython-input-1134258696.py:24: UserWarning: Zero value in spectrum for channel E129\n",
            "  psd = raw.compute_psd(fmin=1, fmax=45, n_fft=1024, method='welch', average='mean')\n"
          ]
        },
        {
          "output_type": "stream",
          "name": "stdout",
          "text": [
            "Effective window size : 4.096 (s)\n",
            "Creating RawArray with float64 data, n_channels=129, n_times=75188\n",
            "    Range : 0 ... 75187 =      0.000 ...   300.748 secs\n",
            "Ready.\n"
          ]
        },
        {
          "output_type": "stream",
          "name": "stderr",
          "text": [
            "/tmp/ipython-input-1134258696.py:24: UserWarning: Zero value in spectrum for channel E129\n",
            "  psd = raw.compute_psd(fmin=1, fmax=45, n_fft=1024, method='welch', average='mean')\n"
          ]
        },
        {
          "output_type": "stream",
          "name": "stdout",
          "text": [
            "Effective window size : 4.096 (s)\n",
            "Creating RawArray with float64 data, n_channels=129, n_times=75089\n",
            "    Range : 0 ... 75088 =      0.000 ...   300.352 secs\n",
            "Ready.\n"
          ]
        },
        {
          "output_type": "stream",
          "name": "stderr",
          "text": [
            "/tmp/ipython-input-1134258696.py:24: UserWarning: Zero value in spectrum for channel E129\n",
            "  psd = raw.compute_psd(fmin=1, fmax=45, n_fft=1024, method='welch', average='mean')\n"
          ]
        },
        {
          "output_type": "stream",
          "name": "stdout",
          "text": [
            "Effective window size : 4.096 (s)\n",
            "Creating RawArray with float64 data, n_channels=129, n_times=75101\n",
            "    Range : 0 ... 75100 =      0.000 ...   300.400 secs\n",
            "Ready.\n"
          ]
        },
        {
          "output_type": "stream",
          "name": "stderr",
          "text": [
            "/tmp/ipython-input-1134258696.py:24: UserWarning: Zero value in spectrum for channel E129\n",
            "  psd = raw.compute_psd(fmin=1, fmax=45, n_fft=1024, method='welch', average='mean')\n"
          ]
        },
        {
          "output_type": "stream",
          "name": "stdout",
          "text": [
            "Effective window size : 4.096 (s)\n",
            "Creating RawArray with float64 data, n_channels=129, n_times=75275\n",
            "    Range : 0 ... 75274 =      0.000 ...   301.096 secs\n",
            "Ready.\n"
          ]
        },
        {
          "output_type": "stream",
          "name": "stderr",
          "text": [
            "/tmp/ipython-input-1134258696.py:24: UserWarning: Zero value in spectrum for channel E129\n",
            "  psd = raw.compute_psd(fmin=1, fmax=45, n_fft=1024, method='welch', average='mean')\n"
          ]
        },
        {
          "output_type": "stream",
          "name": "stdout",
          "text": [
            "Effective window size : 4.096 (s)\n",
            "Creating RawArray with float64 data, n_channels=129, n_times=78639\n",
            "    Range : 0 ... 78638 =      0.000 ...   314.552 secs\n",
            "Ready.\n"
          ]
        },
        {
          "output_type": "stream",
          "name": "stderr",
          "text": [
            "/tmp/ipython-input-1134258696.py:24: UserWarning: Zero value in spectrum for channel E129\n",
            "  psd = raw.compute_psd(fmin=1, fmax=45, n_fft=1024, method='welch', average='mean')\n"
          ]
        },
        {
          "output_type": "stream",
          "name": "stdout",
          "text": [
            "Effective window size : 4.096 (s)\n",
            "Creating RawArray with float64 data, n_channels=129, n_times=75276\n",
            "    Range : 0 ... 75275 =      0.000 ...   301.100 secs\n",
            "Ready.\n"
          ]
        },
        {
          "output_type": "stream",
          "name": "stderr",
          "text": [
            "/tmp/ipython-input-1134258696.py:24: UserWarning: Zero value in spectrum for channel E129\n",
            "  psd = raw.compute_psd(fmin=1, fmax=45, n_fft=1024, method='welch', average='mean')\n"
          ]
        },
        {
          "output_type": "stream",
          "name": "stdout",
          "text": [
            "Effective window size : 4.096 (s)\n",
            "Creating RawArray with float64 data, n_channels=129, n_times=75126\n",
            "    Range : 0 ... 75125 =      0.000 ...   300.500 secs\n",
            "Ready.\n"
          ]
        },
        {
          "output_type": "stream",
          "name": "stderr",
          "text": [
            "/tmp/ipython-input-1134258696.py:24: UserWarning: Zero value in spectrum for channel E129\n",
            "  psd = raw.compute_psd(fmin=1, fmax=45, n_fft=1024, method='welch', average='mean')\n"
          ]
        },
        {
          "output_type": "stream",
          "name": "stdout",
          "text": [
            "Effective window size : 4.096 (s)\n",
            "Creating RawArray with float64 data, n_channels=129, n_times=75127\n",
            "    Range : 0 ... 75126 =      0.000 ...   300.504 secs\n",
            "Ready.\n"
          ]
        },
        {
          "output_type": "stream",
          "name": "stderr",
          "text": [
            "/tmp/ipython-input-1134258696.py:24: UserWarning: Zero value in spectrum for channel E129\n",
            "  psd = raw.compute_psd(fmin=1, fmax=45, n_fft=1024, method='welch', average='mean')\n"
          ]
        },
        {
          "output_type": "stream",
          "name": "stdout",
          "text": [
            "Effective window size : 4.096 (s)\n",
            "Creating RawArray with float64 data, n_channels=129, n_times=82651\n",
            "    Range : 0 ... 82650 =      0.000 ...   330.600 secs\n",
            "Ready.\n"
          ]
        },
        {
          "output_type": "stream",
          "name": "stderr",
          "text": [
            "/tmp/ipython-input-1134258696.py:24: UserWarning: Zero value in spectrum for channel E129\n",
            "  psd = raw.compute_psd(fmin=1, fmax=45, n_fft=1024, method='welch', average='mean')\n"
          ]
        },
        {
          "output_type": "stream",
          "name": "stdout",
          "text": [
            "Effective window size : 4.096 (s)\n",
            "Creating RawArray with float64 data, n_channels=129, n_times=75126\n",
            "    Range : 0 ... 75125 =      0.000 ...   300.500 secs\n",
            "Ready.\n"
          ]
        },
        {
          "output_type": "stream",
          "name": "stderr",
          "text": [
            "/tmp/ipython-input-1134258696.py:24: UserWarning: Zero value in spectrum for channel E129\n",
            "  psd = raw.compute_psd(fmin=1, fmax=45, n_fft=1024, method='welch', average='mean')\n"
          ]
        },
        {
          "output_type": "stream",
          "name": "stdout",
          "text": [
            "Effective window size : 4.096 (s)\n",
            "Creating RawArray with float64 data, n_channels=129, n_times=75176\n",
            "    Range : 0 ... 75175 =      0.000 ...   300.700 secs\n",
            "Ready.\n"
          ]
        },
        {
          "output_type": "stream",
          "name": "stderr",
          "text": [
            "/tmp/ipython-input-1134258696.py:24: UserWarning: Zero value in spectrum for channel E129\n",
            "  psd = raw.compute_psd(fmin=1, fmax=45, n_fft=1024, method='welch', average='mean')\n"
          ]
        },
        {
          "output_type": "stream",
          "name": "stdout",
          "text": [
            "Effective window size : 4.096 (s)\n",
            "Creating RawArray with float64 data, n_channels=129, n_times=75151\n",
            "    Range : 0 ... 75150 =      0.000 ...   300.600 secs\n",
            "Ready.\n"
          ]
        },
        {
          "output_type": "stream",
          "name": "stderr",
          "text": [
            "/tmp/ipython-input-1134258696.py:24: UserWarning: Zero value in spectrum for channel E129\n",
            "  psd = raw.compute_psd(fmin=1, fmax=45, n_fft=1024, method='welch', average='mean')\n"
          ]
        },
        {
          "output_type": "stream",
          "name": "stdout",
          "text": [
            "Effective window size : 4.096 (s)\n",
            "Creating RawArray with float64 data, n_channels=129, n_times=75226\n",
            "    Range : 0 ... 75225 =      0.000 ...   300.900 secs\n",
            "Ready.\n"
          ]
        },
        {
          "output_type": "stream",
          "name": "stderr",
          "text": [
            "/tmp/ipython-input-1134258696.py:24: UserWarning: Zero value in spectrum for channel E129\n",
            "  psd = raw.compute_psd(fmin=1, fmax=45, n_fft=1024, method='welch', average='mean')\n"
          ]
        },
        {
          "output_type": "stream",
          "name": "stdout",
          "text": [
            "Effective window size : 4.096 (s)\n",
            "Creating RawArray with float64 data, n_channels=129, n_times=75402\n",
            "    Range : 0 ... 75401 =      0.000 ...   301.604 secs\n",
            "Ready.\n"
          ]
        },
        {
          "output_type": "stream",
          "name": "stderr",
          "text": [
            "/tmp/ipython-input-1134258696.py:24: UserWarning: Zero value in spectrum for channel E129\n",
            "  psd = raw.compute_psd(fmin=1, fmax=45, n_fft=1024, method='welch', average='mean')\n"
          ]
        },
        {
          "output_type": "stream",
          "name": "stdout",
          "text": [
            "Effective window size : 4.096 (s)\n",
            "Creating RawArray with float64 data, n_channels=129, n_times=75688\n",
            "    Range : 0 ... 75687 =      0.000 ...   302.748 secs\n",
            "Ready.\n"
          ]
        },
        {
          "output_type": "stream",
          "name": "stderr",
          "text": [
            "/tmp/ipython-input-1134258696.py:24: UserWarning: Zero value in spectrum for channel E129\n",
            "  psd = raw.compute_psd(fmin=1, fmax=45, n_fft=1024, method='welch', average='mean')\n"
          ]
        },
        {
          "output_type": "stream",
          "name": "stdout",
          "text": [
            "Effective window size : 4.096 (s)\n",
            "Creating RawArray with float64 data, n_channels=129, n_times=75750\n",
            "    Range : 0 ... 75749 =      0.000 ...   302.996 secs\n",
            "Ready.\n"
          ]
        },
        {
          "output_type": "stream",
          "name": "stderr",
          "text": [
            "/tmp/ipython-input-1134258696.py:24: UserWarning: Zero value in spectrum for channel E129\n",
            "  psd = raw.compute_psd(fmin=1, fmax=45, n_fft=1024, method='welch', average='mean')\n"
          ]
        },
        {
          "output_type": "stream",
          "name": "stdout",
          "text": [
            "Effective window size : 4.096 (s)\n"
          ]
        },
        {
          "output_type": "stream",
          "name": "stderr",
          "text": [
            "/tmp/ipython-input-1134258696.py:24: UserWarning: Zero value in spectrum for channel E129\n",
            "  psd = raw.compute_psd(fmin=1, fmax=45, n_fft=1024, method='welch', average='mean')\n"
          ]
        },
        {
          "output_type": "stream",
          "name": "stdout",
          "text": [
            "Creating RawArray with float64 data, n_channels=129, n_times=75339\n",
            "    Range : 0 ... 75338 =      0.000 ...   301.352 secs\n",
            "Ready.\n",
            "Effective window size : 4.096 (s)\n",
            "Creating RawArray with float64 data, n_channels=129, n_times=75101\n",
            "    Range : 0 ... 75100 =      0.000 ...   300.400 secs\n",
            "Ready.\n"
          ]
        },
        {
          "output_type": "stream",
          "name": "stderr",
          "text": [
            "/tmp/ipython-input-1134258696.py:24: UserWarning: Zero value in spectrum for channel E129\n",
            "  psd = raw.compute_psd(fmin=1, fmax=45, n_fft=1024, method='welch', average='mean')\n"
          ]
        },
        {
          "output_type": "stream",
          "name": "stdout",
          "text": [
            "Effective window size : 4.096 (s)\n",
            "Creating RawArray with float64 data, n_channels=129, n_times=75151\n",
            "    Range : 0 ... 75150 =      0.000 ...   300.600 secs\n",
            "Ready.\n"
          ]
        },
        {
          "output_type": "stream",
          "name": "stderr",
          "text": [
            "/tmp/ipython-input-1134258696.py:24: UserWarning: Zero value in spectrum for channel E129\n",
            "  psd = raw.compute_psd(fmin=1, fmax=45, n_fft=1024, method='welch', average='mean')\n"
          ]
        },
        {
          "output_type": "stream",
          "name": "stdout",
          "text": [
            "Effective window size : 4.096 (s)\n",
            "Creating RawArray with float64 data, n_channels=129, n_times=75176\n",
            "    Range : 0 ... 75175 =      0.000 ...   300.700 secs\n",
            "Ready.\n"
          ]
        },
        {
          "output_type": "stream",
          "name": "stderr",
          "text": [
            "/tmp/ipython-input-1134258696.py:24: UserWarning: Zero value in spectrum for channel E129\n",
            "  psd = raw.compute_psd(fmin=1, fmax=45, n_fft=1024, method='welch', average='mean')\n"
          ]
        },
        {
          "output_type": "stream",
          "name": "stdout",
          "text": [
            "Effective window size : 4.096 (s)\n",
            "Creating RawArray with float64 data, n_channels=129, n_times=75139\n",
            "    Range : 0 ... 75138 =      0.000 ...   300.552 secs\n",
            "Ready.\n"
          ]
        },
        {
          "output_type": "stream",
          "name": "stderr",
          "text": [
            "/tmp/ipython-input-1134258696.py:24: UserWarning: Zero value in spectrum for channel E129\n",
            "  psd = raw.compute_psd(fmin=1, fmax=45, n_fft=1024, method='welch', average='mean')\n"
          ]
        },
        {
          "output_type": "stream",
          "name": "stdout",
          "text": [
            "Effective window size : 4.096 (s)\n",
            "Creating RawArray with float64 data, n_channels=129, n_times=75113\n",
            "    Range : 0 ... 75112 =      0.000 ...   300.448 secs\n",
            "Ready.\n"
          ]
        },
        {
          "output_type": "stream",
          "name": "stderr",
          "text": [
            "/tmp/ipython-input-1134258696.py:24: UserWarning: Zero value in spectrum for channel E129\n",
            "  psd = raw.compute_psd(fmin=1, fmax=45, n_fft=1024, method='welch', average='mean')\n"
          ]
        },
        {
          "output_type": "stream",
          "name": "stdout",
          "text": [
            "Effective window size : 4.096 (s)\n",
            "Creating RawArray with float64 data, n_channels=129, n_times=75289\n",
            "    Range : 0 ... 75288 =      0.000 ...   301.152 secs\n",
            "Ready.\n"
          ]
        },
        {
          "output_type": "stream",
          "name": "stderr",
          "text": [
            "/tmp/ipython-input-1134258696.py:24: UserWarning: Zero value in spectrum for channel E129\n",
            "  psd = raw.compute_psd(fmin=1, fmax=45, n_fft=1024, method='welch', average='mean')\n"
          ]
        },
        {
          "output_type": "stream",
          "name": "stdout",
          "text": [
            "Effective window size : 4.096 (s)\n",
            "Creating RawArray with float64 data, n_channels=129, n_times=75138\n",
            "    Range : 0 ... 75137 =      0.000 ...   300.548 secs\n",
            "Ready.\n"
          ]
        },
        {
          "output_type": "stream",
          "name": "stderr",
          "text": [
            "/tmp/ipython-input-1134258696.py:24: UserWarning: Zero value in spectrum for channel E129\n",
            "  psd = raw.compute_psd(fmin=1, fmax=45, n_fft=1024, method='welch', average='mean')\n"
          ]
        },
        {
          "output_type": "stream",
          "name": "stdout",
          "text": [
            "Effective window size : 4.096 (s)\n",
            "Creating RawArray with float64 data, n_channels=129, n_times=75189\n",
            "    Range : 0 ... 75188 =      0.000 ...   300.752 secs\n",
            "Ready.\n"
          ]
        },
        {
          "output_type": "stream",
          "name": "stderr",
          "text": [
            "/tmp/ipython-input-1134258696.py:24: UserWarning: Zero value in spectrum for channel E129\n",
            "  psd = raw.compute_psd(fmin=1, fmax=45, n_fft=1024, method='welch', average='mean')\n"
          ]
        },
        {
          "output_type": "stream",
          "name": "stdout",
          "text": [
            "Effective window size : 4.096 (s)\n",
            "Creating RawArray with float64 data, n_channels=129, n_times=75126\n",
            "    Range : 0 ... 75125 =      0.000 ...   300.500 secs\n",
            "Ready.\n"
          ]
        },
        {
          "output_type": "stream",
          "name": "stderr",
          "text": [
            "/tmp/ipython-input-1134258696.py:24: UserWarning: Zero value in spectrum for channel E129\n",
            "  psd = raw.compute_psd(fmin=1, fmax=45, n_fft=1024, method='welch', average='mean')\n"
          ]
        },
        {
          "output_type": "stream",
          "name": "stdout",
          "text": [
            "Effective window size : 4.096 (s)\n",
            "Creating RawArray with float64 data, n_channels=129, n_times=75251\n",
            "    Range : 0 ... 75250 =      0.000 ...   301.000 secs\n",
            "Ready.\n"
          ]
        },
        {
          "output_type": "stream",
          "name": "stderr",
          "text": [
            "/tmp/ipython-input-1134258696.py:24: UserWarning: Zero value in spectrum for channel E129\n",
            "  psd = raw.compute_psd(fmin=1, fmax=45, n_fft=1024, method='welch', average='mean')\n"
          ]
        },
        {
          "output_type": "stream",
          "name": "stdout",
          "text": [
            "Effective window size : 4.096 (s)\n",
            "Creating RawArray with float64 data, n_channels=129, n_times=75201\n",
            "    Range : 0 ... 75200 =      0.000 ...   300.800 secs\n",
            "Ready.\n"
          ]
        },
        {
          "output_type": "stream",
          "name": "stderr",
          "text": [
            "/tmp/ipython-input-1134258696.py:24: UserWarning: Zero value in spectrum for channel E129\n",
            "  psd = raw.compute_psd(fmin=1, fmax=45, n_fft=1024, method='welch', average='mean')\n"
          ]
        },
        {
          "output_type": "stream",
          "name": "stdout",
          "text": [
            "Effective window size : 4.096 (s)\n",
            "(53, 647)\n",
            "   subject group   E1_delta   E2_delta  E3_delta  E4_delta  E5_delta  \\\n",
            "0  2020016    HC  14.357137   6.091257  4.935259  3.912784  1.616299   \n",
            "1  2030018    HC   5.585025   6.181733  2.798913  2.074065  2.088062   \n",
            "2  2020023    HC  18.659785  10.290096  5.680160  2.760288  1.529962   \n",
            "3  2030002    HC   7.292209   8.077513  8.831777  2.764896  1.344259   \n",
            "4  2020022    HC   6.923784   9.487876  8.102684  5.200795  2.267807   \n",
            "\n",
            "   E6_delta  E7_delta   E8_delta  ...  E120_gamma  E121_gamma  E122_gamma  \\\n",
            "0  0.779119  0.316180  14.402356  ...    0.109318    0.109956    0.169912   \n",
            "1  2.087401  4.138027   6.652720  ...    0.162206    0.173991    0.187726   \n",
            "2  0.717999  0.273209  21.577004  ...    0.212292    0.237598    0.191508   \n",
            "3  0.510302  0.364555  69.034304  ...    0.109659    0.125588    0.136122   \n",
            "4  1.915491  1.367538  30.534749  ...    0.121753    0.117785    0.112432   \n",
            "\n",
            "   E123_gamma  E124_gamma  E125_gamma  E126_gamma  E127_gamma  E128_gamma  \\\n",
            "0    0.206390    0.090715    0.115199    0.145024    0.230627    0.140164   \n",
            "1    0.098310    0.084301    0.189698    0.213969    0.343275    0.483660   \n",
            "2    0.187147    0.137719    0.234375    0.229921    0.228296    0.262655   \n",
            "3    0.091640    0.060442    0.133187    0.183672    0.237924    0.174583   \n",
            "4    0.103461    0.094369    0.117629    0.134905    0.144046    0.130916   \n",
            "\n",
            "   E129_gamma  \n",
            "0         0.0  \n",
            "1         0.0  \n",
            "2         0.0  \n",
            "3         0.0  \n",
            "4         0.0  \n",
            "\n",
            "[5 rows x 647 columns]\n"
          ]
        },
        {
          "output_type": "stream",
          "name": "stderr",
          "text": [
            "/tmp/ipython-input-1134258696.py:24: UserWarning: Zero value in spectrum for channel E129\n",
            "  psd = raw.compute_psd(fmin=1, fmax=45, n_fft=1024, method='welch', average='mean')\n"
          ]
        }
      ]
    },
    {
      "cell_type": "markdown",
      "source": [
        "### Quick Exploratory Analysis\n",
        "As I wanted to get an initial understanding of which EEG frequency bands might be most informative for distinguishing MDD patients from healthy controls, I used a Random Forest classifier for exploratory analysis. This model analyzed the power of different frequency bands (delta, theta, alpha, beta, gamma) across all 128 electrodes to identify potential patterns that could separate MDD subjects from healthy controls.\n",
        "\n",
        "Using this trained model, I calculated feature importance scores for each individual EEG measurement, which indicates how much each specific electrode-frequency combination contributes to correctly classifying subjects - where higher scores mean greater contribution to the classification decision. To get an overview of which frequency bands were most relevant overall, I summed the importance scores across all 128 electrodes for each frequency band, providing a single importance value per brain wave type.\n",
        "\n",
        "This exploratory approach gave me initial insights into which aspects of brain activity might be most altered in depression, helping to identify promising frequency bands for further investigation."
      ],
      "metadata": {
        "id": "6qoeR0-0R_R1"
      }
    },
    {
      "cell_type": "code",
      "source": [
        "# Features (all columns except 'subject' and 'group')\n",
        "X = df_features.drop(columns=[\"subject\", \"group\"]).values\n",
        "\n",
        "# Labels\n",
        "y = df_features[\"group\"].values"
      ],
      "metadata": {
        "id": "b00cLxlGSrPf"
      },
      "execution_count": null,
      "outputs": []
    },
    {
      "cell_type": "code",
      "source": [
        "from sklearn.ensemble import RandomForestClassifier\n",
        "\n",
        "# Initialize and fit\n",
        "clf = RandomForestClassifier(n_estimators=500, random_state=42)\n",
        "clf.fit(X, y)\n",
        "\n",
        "# Get feature importances\n",
        "importances = clf.feature_importances_"
      ],
      "metadata": {
        "id": "6-7kCzKknaYg"
      },
      "execution_count": null,
      "outputs": []
    },
    {
      "cell_type": "code",
      "source": [
        "n_channels = 128\n",
        "band_importances = {}\n",
        "\n",
        "# For each band, sum importance across all channels\n",
        "for i, band_name in enumerate(bands.keys()):\n",
        "    # indices for this band in the flattened feature array\n",
        "    band_idx = list(range(i, n_channels*len(bands), len(bands)))\n",
        "    band_importances[band_name] = importances[band_idx].sum()\n",
        "\n",
        "print(\"Feature importance by frequency band:\")\n",
        "print(band_importances)"
      ],
      "metadata": {
        "collapsed": true,
        "colab": {
          "base_uri": "https://localhost:8080/"
        },
        "id": "-nFLqWAMndCL",
        "outputId": "8b159f41-7462-4c42-e7dd-8f9abde44fa2"
      },
      "execution_count": null,
      "outputs": [
        {
          "output_type": "stream",
          "name": "stdout",
          "text": [
            "Feature importance by frequency band:\n",
            "{'delta': np.float64(0.19434356762881783), 'theta': np.float64(0.23743705248074046), 'alpha': np.float64(0.18166827010840936), 'beta': np.float64(0.18932157908278535), 'gamma': np.float64(0.1873480576499716)}\n"
          ]
        }
      ]
    },
    {
      "cell_type": "code",
      "source": [
        "import matplotlib.pyplot as plt\n",
        "\n",
        "plt.bar(band_importances.keys(), band_importances.values())\n",
        "plt.ylabel(\"Feature importance\")\n",
        "plt.title(\"Discriminative frequency bands for MDD vs HC\")\n",
        "plt.show()"
      ],
      "metadata": {
        "colab": {
          "base_uri": "https://localhost:8080/",
          "height": 452
        },
        "collapsed": true,
        "id": "vhoFuSVwnga7",
        "outputId": "d06d9fcd-93b7-47cc-8ffb-f7b36341e231"
      },
      "execution_count": null,
      "outputs": [
        {
          "output_type": "display_data",
          "data": {
            "text/plain": [
              "<Figure size 640x480 with 1 Axes>"
            ],
            "image/png": "[encoded data removed]"
          },
          "metadata": {}
        }
      ]
    },
    {
      "cell_type": "markdown",
      "source": [
        "### Rigorous Statistical Validation\n",
        "\n",
        "Building on the exploratory findings, I wanted to scientifically validate whether the identified EEG patterns could reliably distinguish MDD patients from healthy controls and determine if any observed differences were statistically meaningful. I used the same Random Forest approach but with proper train-test splitting to evaluate real-world diagnostic performance - testing the model on completely unseen subjects to assess how accurately it could predict depression status.\n",
        "\n",
        "Using the trained model, I again calculated feature importance scores for each EEG measurement and summed them across electrodes to get frequency band-level importance scores. However, this time I ensured the analysis used only training data to avoid inflated importance estimates.\n",
        "\n",
        "Lastly, I performed a permutation test where group labels (MDD vs healthy control) were randomly shuffled 1,000 times and the model was re-run each time. This allowed me to determine if the observed importance of each frequency band was significantly greater than what we would expect by random chance, quantified by p-values. This statistical testing proved whether the brain wave differences identified in my exploratory analysis represented genuine biomarkers rather than spurious patterns."
      ],
      "metadata": {
        "id": "dSxesFA62KgN"
      }
    },
    {
      "cell_type": "code",
      "source": [
        "from sklearn.ensemble import RandomForestClassifier\n",
        "from sklearn.model_selection import train_test_split\n",
        "from sklearn.metrics import accuracy_score\n",
        "\n",
        "# Split features/labels\n",
        "X = df_features.drop(columns=[\"subject\", \"group\"])\n",
        "y = df_features[\"group\"].map({\"HC\": 0, \"MDD\": 1})\n",
        "\n",
        "# Train/test split\n",
        "X_train, X_test, y_train, y_test = train_test_split(X, y, test_size=0.2, random_state=42)\n",
        "\n",
        "# Train model\n",
        "clf = RandomForestClassifier(n_estimators=500, random_state=42)\n",
        "clf.fit(X_train, y_train)\n",
        "\n",
        "# Baseline accuracy\n",
        "y_pred = clf.predict(X_test)\n",
        "print(\"Baseline accuracy:\", accuracy_score(y_test, y_pred))\n",
        "\n",
        "# Get real importances\n",
        "real_importances = clf.feature_importances_\n",
        "\n",
        "# Collapse importances by frequency band (ignore electrode index)\n",
        "band_means_real = {}\n",
        "for col, imp in zip(X.columns, real_importances):\n",
        "    band = col.split(\"_\")[-1]   # e.g. \"delta\", \"theta\", etc.\n",
        "    band_means_real[band] = band_means_real.get(band, 0) + imp\n",
        "\n",
        "# Permutation test\n",
        "n_perms = 1000\n",
        "band_means_null = {band: [] for band in band_means_real.keys()}\n",
        "\n",
        "for i in range(n_perms):\n",
        "    y_perm = np.random.permutation(y)  # shuffle labels\n",
        "    clf_perm = RandomForestClassifier(n_estimators=200, random_state=42, n_jobs=-1)\n",
        "    clf_perm.fit(X_train, np.random.permutation(y_train))  # shuffle training labels\n",
        "\n",
        "    perm_importances = clf_perm.feature_importances_\n",
        "    band_sums = {}\n",
        "    for col, imp in zip(X.columns, perm_importances):\n",
        "        band = col.split(\"_\")[-1]\n",
        "        band_sums[band] = band_sums.get(band, 0) + imp\n",
        "\n",
        "    for band in band_means_null.keys():\n",
        "        band_means_null[band].append(band_sums.get(band, 0))\n",
        "\n",
        "    null_importances = {band: [] for band in bands}\n",
        "\n",
        "# Compute p-values\n",
        "p_values = {}\n",
        "for band in band_means_real.keys():\n",
        "    null_dist = np.array(band_means_null[band])\n",
        "    real_val = band_means_real[band]\n",
        "    p_val = (np.sum(null_dist >= real_val) + 1) / (n_perms + 1)  # one-sided\n",
        "    p_values[band] = p_val\n",
        "\n",
        "print(\"Real band importances:\", band_means_real)\n",
        "print(\"Permutation p-values:\", p_values)"
      ],
      "metadata": {
        "colab": {
          "base_uri": "https://localhost:8080/",
          "height": 407
        },
        "id": "60BpB7-6nzeg",
        "outputId": "c34daa01-7ddb-4713-d581-ca9f00c80d64"
      },
      "execution_count": null,
      "outputs": [
        {
          "output_type": "stream",
          "name": "stdout",
          "text": [
            "Baseline accuracy: 0.36363636363636365\n"
          ]
        },
        {
          "output_type": "error",
          "ename": "KeyboardInterrupt",
          "evalue": "",
          "traceback": [
            "\u001b[0;31m---------------------------------------------------------------------------\u001b[0m",
            "\u001b[0;31mKeyboardInterrupt\u001b[0m                         Traceback (most recent call last)",
            "\u001b[0;32m/tmp/ipython-input-1736112117.py\u001b[0m in \u001b[0;36m<cell line: 0>\u001b[0;34m()\u001b[0m\n\u001b[1;32m     34\u001b[0m     \u001b[0my_perm\u001b[0m \u001b[0;34m=\u001b[0m \u001b[0mnp\u001b[0m\u001b[0;34m.\u001b[0m\u001b[0mrandom\u001b[0m\u001b[0;34m.\u001b[0m\u001b[0mpermutation\u001b[0m\u001b[0;34m(\u001b[0m\u001b[0my\u001b[0m\u001b[0;34m)\u001b[0m  \u001b[0;31m# shuffle labels\u001b[0m\u001b[0;34m\u001b[0m\u001b[0;34m\u001b[0m\u001b[0m\n\u001b[1;32m     35\u001b[0m     \u001b[0mclf_perm\u001b[0m \u001b[0;34m=\u001b[0m \u001b[0mRandomForestClassifier\u001b[0m\u001b[0;34m(\u001b[0m\u001b[0mn_estimators\u001b[0m\u001b[0;34m=\u001b[0m\u001b[0;36m200\u001b[0m\u001b[0;34m,\u001b[0m \u001b[0mrandom_state\u001b[0m\u001b[0;34m=\u001b[0m\u001b[0;36m42\u001b[0m\u001b[0;34m,\u001b[0m \u001b[0mn_jobs\u001b[0m\u001b[0;34m=\u001b[0m\u001b[0;34m-\u001b[0m\u001b[0;36m1\u001b[0m\u001b[0;34m)\u001b[0m\u001b[0;34m\u001b[0m\u001b[0;34m\u001b[0m\u001b[0m\n\u001b[0;32m---> 36\u001b[0;31m     \u001b[0mclf_perm\u001b[0m\u001b[0;34m.\u001b[0m\u001b[0mfit\u001b[0m\u001b[0;34m(\u001b[0m\u001b[0mX_train\u001b[0m\u001b[0;34m,\u001b[0m \u001b[0mnp\u001b[0m\u001b[0;34m.\u001b[0m\u001b[0mrandom\u001b[0m\u001b[0;34m.\u001b[0m\u001b[0mpermutation\u001b[0m\u001b[0;34m(\u001b[0m\u001b[0my_train\u001b[0m\u001b[0;34m)\u001b[0m\u001b[0;34m)\u001b[0m  \u001b[0;31m# shuffle training labels\u001b[0m\u001b[0;34m\u001b[0m\u001b[0;34m\u001b[0m\u001b[0m\n\u001b[0m\u001b[1;32m     37\u001b[0m \u001b[0;34m\u001b[0m\u001b[0m\n\u001b[1;32m     38\u001b[0m     \u001b[0mperm_importances\u001b[0m \u001b[0;34m=\u001b[0m \u001b[0mclf_perm\u001b[0m\u001b[0;34m.\u001b[0m\u001b[0mfeature_importances_\u001b[0m\u001b[0;34m\u001b[0m\u001b[0;34m\u001b[0m\u001b[0m\n",
            "\u001b[0;32m/usr/local/lib/python3.12/dist-packages/sklearn/base.py\u001b[0m in \u001b[0;36mwrapper\u001b[0;34m(estimator, *args, **kwargs)\u001b[0m\n\u001b[1;32m   1387\u001b[0m                 )\n\u001b[1;32m   1388\u001b[0m             ):\n\u001b[0;32m-> 1389\u001b[0;31m                 \u001b[0;32mreturn\u001b[0m \u001b[0mfit_method\u001b[0m\u001b[0;34m(\u001b[0m\u001b[0mestimator\u001b[0m\u001b[0;34m,\u001b[0m \u001b[0;34m*\u001b[0m\u001b[0margs\u001b[0m\u001b[0;34m,\u001b[0m \u001b[0;34m**\u001b[0m\u001b[0mkwargs\u001b[0m\u001b[0;34m)\u001b[0m\u001b[0;34m\u001b[0m\u001b[0;34m\u001b[0m\u001b[0m\n\u001b[0m\u001b[1;32m   1390\u001b[0m \u001b[0;34m\u001b[0m\u001b[0m\n\u001b[1;32m   1391\u001b[0m         \u001b[0;32mreturn\u001b[0m \u001b[0mwrapper\u001b[0m\u001b[0;34m\u001b[0m\u001b[0;34m\u001b[0m\u001b[0m\n",
            "\u001b[0;32m/usr/local/lib/python3.12/dist-packages/sklearn/ensemble/_forest.py\u001b[0m in \u001b[0;36mfit\u001b[0;34m(self, X, y, sample_weight)\u001b[0m\n\u001b[1;32m    475\u001b[0m \u001b[0;34m\u001b[0m\u001b[0m\n\u001b[1;32m    476\u001b[0m             trees = [\n\u001b[0;32m--> 477\u001b[0;31m                 \u001b[0mself\u001b[0m\u001b[0;34m.\u001b[0m\u001b[0m_make_estimator\u001b[0m\u001b[0;34m(\u001b[0m\u001b[0mappend\u001b[0m\u001b[0;34m=\u001b[0m\u001b[0;32mFalse\u001b[0m\u001b[0;34m,\u001b[0m \u001b[0mrandom_state\u001b[0m\u001b[0;34m=\u001b[0m\u001b[0mrandom_state\u001b[0m\u001b[0;34m)\u001b[0m\u001b[0;34m\u001b[0m\u001b[0;34m\u001b[0m\u001b[0m\n\u001b[0m\u001b[1;32m    478\u001b[0m                 \u001b[0;32mfor\u001b[0m \u001b[0mi\u001b[0m \u001b[0;32min\u001b[0m \u001b[0mrange\u001b[0m\u001b[0;34m(\u001b[0m\u001b[0mn_more_estimators\u001b[0m\u001b[0;34m)\u001b[0m\u001b[0;34m\u001b[0m\u001b[0;34m\u001b[0m\u001b[0m\n\u001b[1;32m    479\u001b[0m             ]\n",
            "\u001b[0;32m/usr/local/lib/python3.12/dist-packages/sklearn/ensemble/_base.py\u001b[0m in \u001b[0;36m_make_estimator\u001b[0;34m(self, append, random_state)\u001b[0m\n\u001b[1;32m    139\u001b[0m         \u001b[0msub\u001b[0m\u001b[0;34m-\u001b[0m\u001b[0mestimators\u001b[0m\u001b[0;34m.\u001b[0m\u001b[0;34m\u001b[0m\u001b[0;34m\u001b[0m\u001b[0m\n\u001b[1;32m    140\u001b[0m         \"\"\"\n\u001b[0;32m--> 141\u001b[0;31m         \u001b[0mestimator\u001b[0m \u001b[0;34m=\u001b[0m \u001b[0mclone\u001b[0m\u001b[0;34m(\u001b[0m\u001b[0mself\u001b[0m\u001b[0;34m.\u001b[0m\u001b[0mestimator_\u001b[0m\u001b[0;34m)\u001b[0m\u001b[0;34m\u001b[0m\u001b[0;34m\u001b[0m\u001b[0m\n\u001b[0m\u001b[1;32m    142\u001b[0m         \u001b[0mestimator\u001b[0m\u001b[0;34m.\u001b[0m\u001b[0mset_params\u001b[0m\u001b[0;34m(\u001b[0m\u001b[0;34m**\u001b[0m\u001b[0;34m{\u001b[0m\u001b[0mp\u001b[0m\u001b[0;34m:\u001b[0m \u001b[0mgetattr\u001b[0m\u001b[0;34m(\u001b[0m\u001b[0mself\u001b[0m\u001b[0;34m,\u001b[0m \u001b[0mp\u001b[0m\u001b[0;34m)\u001b[0m \u001b[0;32mfor\u001b[0m \u001b[0mp\u001b[0m \u001b[0;32min\u001b[0m \u001b[0mself\u001b[0m\u001b[0;34m.\u001b[0m\u001b[0mestimator_params\u001b[0m\u001b[0;34m}\u001b[0m\u001b[0;34m)\u001b[0m\u001b[0;34m\u001b[0m\u001b[0;34m\u001b[0m\u001b[0m\n\u001b[1;32m    143\u001b[0m \u001b[0;34m\u001b[0m\u001b[0m\n",
            "\u001b[0;32m/usr/local/lib/python3.12/dist-packages/sklearn/base.py\u001b[0m in \u001b[0;36mclone\u001b[0;34m(estimator, safe)\u001b[0m\n\u001b[1;32m     92\u001b[0m     \"\"\"\n\u001b[1;32m     93\u001b[0m     \u001b[0;32mif\u001b[0m \u001b[0mhasattr\u001b[0m\u001b[0;34m(\u001b[0m\u001b[0mestimator\u001b[0m\u001b[0;34m,\u001b[0m \u001b[0;34m\"__sklearn_clone__\"\u001b[0m\u001b[0;34m)\u001b[0m \u001b[0;32mand\u001b[0m \u001b[0;32mnot\u001b[0m \u001b[0minspect\u001b[0m\u001b[0;34m.\u001b[0m\u001b[0misclass\u001b[0m\u001b[0;34m(\u001b[0m\u001b[0mestimator\u001b[0m\u001b[0;34m)\u001b[0m\u001b[0;34m:\u001b[0m\u001b[0;34m\u001b[0m\u001b[0;34m\u001b[0m\u001b[0m\n\u001b[0;32m---> 94\u001b[0;31m         \u001b[0;32mreturn\u001b[0m \u001b[0mestimator\u001b[0m\u001b[0;34m.\u001b[0m\u001b[0m__sklearn_clone__\u001b[0m\u001b[0;34m(\u001b[0m\u001b[0;34m)\u001b[0m\u001b[0;34m\u001b[0m\u001b[0;34m\u001b[0m\u001b[0m\n\u001b[0m\u001b[1;32m     95\u001b[0m     \u001b[0;32mreturn\u001b[0m \u001b[0m_clone_parametrized\u001b[0m\u001b[0;34m(\u001b[0m\u001b[0mestimator\u001b[0m\u001b[0;34m,\u001b[0m \u001b[0msafe\u001b[0m\u001b[0;34m=\u001b[0m\u001b[0msafe\u001b[0m\u001b[0;34m)\u001b[0m\u001b[0;34m\u001b[0m\u001b[0;34m\u001b[0m\u001b[0m\n\u001b[1;32m     96\u001b[0m \u001b[0;34m\u001b[0m\u001b[0m\n",
            "\u001b[0;32m/usr/local/lib/python3.12/dist-packages/sklearn/base.py\u001b[0m in \u001b[0;36m__sklearn_clone__\u001b[0;34m(self)\u001b[0m\n\u001b[1;32m    298\u001b[0m \u001b[0;34m\u001b[0m\u001b[0m\n\u001b[1;32m    299\u001b[0m     \u001b[0;32mdef\u001b[0m \u001b[0m__sklearn_clone__\u001b[0m\u001b[0;34m(\u001b[0m\u001b[0mself\u001b[0m\u001b[0;34m)\u001b[0m\u001b[0;34m:\u001b[0m\u001b[0;34m\u001b[0m\u001b[0;34m\u001b[0m\u001b[0m\n\u001b[0;32m--> 300\u001b[0;31m         \u001b[0;32mreturn\u001b[0m \u001b[0m_clone_parametrized\u001b[0m\u001b[0;34m(\u001b[0m\u001b[0mself\u001b[0m\u001b[0;34m)\u001b[0m\u001b[0;34m\u001b[0m\u001b[0;34m\u001b[0m\u001b[0m\n\u001b[0m\u001b[1;32m    301\u001b[0m \u001b[0;34m\u001b[0m\u001b[0m\n\u001b[1;32m    302\u001b[0m     \u001b[0;32mdef\u001b[0m \u001b[0m__repr__\u001b[0m\u001b[0;34m(\u001b[0m\u001b[0mself\u001b[0m\u001b[0;34m,\u001b[0m \u001b[0mN_CHAR_MAX\u001b[0m\u001b[0;34m=\u001b[0m\u001b[0;36m700\u001b[0m\u001b[0;34m)\u001b[0m\u001b[0;34m:\u001b[0m\u001b[0;34m\u001b[0m\u001b[0;34m\u001b[0m\u001b[0m\n",
            "\u001b[0;32m/usr/local/lib/python3.12/dist-packages/sklearn/base.py\u001b[0m in \u001b[0;36m_clone_parametrized\u001b[0;34m(estimator, safe)\u001b[0m\n\u001b[1;32m    123\u001b[0m \u001b[0;34m\u001b[0m\u001b[0m\n\u001b[1;32m    124\u001b[0m     \u001b[0mklass\u001b[0m \u001b[0;34m=\u001b[0m \u001b[0mestimator\u001b[0m\u001b[0;34m.\u001b[0m\u001b[0m__class__\u001b[0m\u001b[0;34m\u001b[0m\u001b[0;34m\u001b[0m\u001b[0m\n\u001b[0;32m--> 125\u001b[0;31m     \u001b[0mnew_object_params\u001b[0m \u001b[0;34m=\u001b[0m \u001b[0mestimator\u001b[0m\u001b[0;34m.\u001b[0m\u001b[0mget_params\u001b[0m\u001b[0;34m(\u001b[0m\u001b[0mdeep\u001b[0m\u001b[0;34m=\u001b[0m\u001b[0;32mFalse\u001b[0m\u001b[0;34m)\u001b[0m\u001b[0;34m\u001b[0m\u001b[0;34m\u001b[0m\u001b[0m\n\u001b[0m\u001b[1;32m    126\u001b[0m     \u001b[0;32mfor\u001b[0m \u001b[0mname\u001b[0m\u001b[0;34m,\u001b[0m \u001b[0mparam\u001b[0m \u001b[0;32min\u001b[0m \u001b[0mnew_object_params\u001b[0m\u001b[0;34m.\u001b[0m\u001b[0mitems\u001b[0m\u001b[0;34m(\u001b[0m\u001b[0;34m)\u001b[0m\u001b[0;34m:\u001b[0m\u001b[0;34m\u001b[0m\u001b[0;34m\u001b[0m\u001b[0m\n\u001b[1;32m    127\u001b[0m         \u001b[0mnew_object_params\u001b[0m\u001b[0;34m[\u001b[0m\u001b[0mname\u001b[0m\u001b[0;34m]\u001b[0m \u001b[0;34m=\u001b[0m \u001b[0mclone\u001b[0m\u001b[0;34m(\u001b[0m\u001b[0mparam\u001b[0m\u001b[0;34m,\u001b[0m \u001b[0msafe\u001b[0m\u001b[0;34m=\u001b[0m\u001b[0;32mFalse\u001b[0m\u001b[0;34m)\u001b[0m\u001b[0;34m\u001b[0m\u001b[0;34m\u001b[0m\u001b[0m\n",
            "\u001b[0;32m/usr/local/lib/python3.12/dist-packages/sklearn/base.py\u001b[0m in \u001b[0;36mget_params\u001b[0;34m(self, deep)\u001b[0m\n\u001b[1;32m    245\u001b[0m         \"\"\"\n\u001b[1;32m    246\u001b[0m         \u001b[0mout\u001b[0m \u001b[0;34m=\u001b[0m \u001b[0mdict\u001b[0m\u001b[0;34m(\u001b[0m\u001b[0;34m)\u001b[0m\u001b[0;34m\u001b[0m\u001b[0;34m\u001b[0m\u001b[0m\n\u001b[0;32m--> 247\u001b[0;31m         \u001b[0;32mfor\u001b[0m \u001b[0mkey\u001b[0m \u001b[0;32min\u001b[0m \u001b[0mself\u001b[0m\u001b[0;34m.\u001b[0m\u001b[0m_get_param_names\u001b[0m\u001b[0;34m(\u001b[0m\u001b[0;34m)\u001b[0m\u001b[0;34m:\u001b[0m\u001b[0;34m\u001b[0m\u001b[0;34m\u001b[0m\u001b[0m\n\u001b[0m\u001b[1;32m    248\u001b[0m             \u001b[0mvalue\u001b[0m \u001b[0;34m=\u001b[0m \u001b[0mgetattr\u001b[0m\u001b[0;34m(\u001b[0m\u001b[0mself\u001b[0m\u001b[0;34m,\u001b[0m \u001b[0mkey\u001b[0m\u001b[0;34m)\u001b[0m\u001b[0;34m\u001b[0m\u001b[0;34m\u001b[0m\u001b[0m\n\u001b[1;32m    249\u001b[0m             \u001b[0;32mif\u001b[0m \u001b[0mdeep\u001b[0m \u001b[0;32mand\u001b[0m \u001b[0mhasattr\u001b[0m\u001b[0;34m(\u001b[0m\u001b[0mvalue\u001b[0m\u001b[0;34m,\u001b[0m \u001b[0;34m\"get_params\"\u001b[0m\u001b[0;34m)\u001b[0m \u001b[0;32mand\u001b[0m \u001b[0;32mnot\u001b[0m \u001b[0misinstance\u001b[0m\u001b[0;34m(\u001b[0m\u001b[0mvalue\u001b[0m\u001b[0;34m,\u001b[0m \u001b[0mtype\u001b[0m\u001b[0;34m)\u001b[0m\u001b[0;34m:\u001b[0m\u001b[0;34m\u001b[0m\u001b[0;34m\u001b[0m\u001b[0m\n",
            "\u001b[0;32m/usr/local/lib/python3.12/dist-packages/sklearn/base.py\u001b[0m in \u001b[0;36m_get_param_names\u001b[0;34m(cls)\u001b[0m\n\u001b[1;32m    210\u001b[0m         \u001b[0;31m# introspect the constructor arguments to find the model parameters\u001b[0m\u001b[0;34m\u001b[0m\u001b[0;34m\u001b[0m\u001b[0m\n\u001b[1;32m    211\u001b[0m         \u001b[0;31m# to represent\u001b[0m\u001b[0;34m\u001b[0m\u001b[0;34m\u001b[0m\u001b[0m\n\u001b[0;32m--> 212\u001b[0;31m         \u001b[0minit_signature\u001b[0m \u001b[0;34m=\u001b[0m \u001b[0minspect\u001b[0m\u001b[0;34m.\u001b[0m\u001b[0msignature\u001b[0m\u001b[0;34m(\u001b[0m\u001b[0minit\u001b[0m\u001b[0;34m)\u001b[0m\u001b[0;34m\u001b[0m\u001b[0;34m\u001b[0m\u001b[0m\n\u001b[0m\u001b[1;32m    213\u001b[0m         \u001b[0;31m# Consider the constructor parameters excluding 'self'\u001b[0m\u001b[0;34m\u001b[0m\u001b[0;34m\u001b[0m\u001b[0m\n\u001b[1;32m    214\u001b[0m         parameters = [\n",
            "\u001b[0;32m/usr/lib/python3.12/inspect.py\u001b[0m in \u001b[0;36msignature\u001b[0;34m(obj, follow_wrapped, globals, locals, eval_str)\u001b[0m\n\u001b[1;32m   3346\u001b[0m \u001b[0;32mdef\u001b[0m \u001b[0msignature\u001b[0m\u001b[0;34m(\u001b[0m\u001b[0mobj\u001b[0m\u001b[0;34m,\u001b[0m \u001b[0;34m*\u001b[0m\u001b[0;34m,\u001b[0m \u001b[0mfollow_wrapped\u001b[0m\u001b[0;34m=\u001b[0m\u001b[0;32mTrue\u001b[0m\u001b[0;34m,\u001b[0m \u001b[0mglobals\u001b[0m\u001b[0;34m=\u001b[0m\u001b[0;32mNone\u001b[0m\u001b[0;34m,\u001b[0m \u001b[0mlocals\u001b[0m\u001b[0;34m=\u001b[0m\u001b[0;32mNone\u001b[0m\u001b[0;34m,\u001b[0m \u001b[0meval_str\u001b[0m\u001b[0;34m=\u001b[0m\u001b[0;32mFalse\u001b[0m\u001b[0;34m)\u001b[0m\u001b[0;34m:\u001b[0m\u001b[0;34m\u001b[0m\u001b[0;34m\u001b[0m\u001b[0m\n\u001b[1;32m   3347\u001b[0m     \u001b[0;34m\"\"\"Get a signature object for the passed callable.\"\"\"\u001b[0m\u001b[0;34m\u001b[0m\u001b[0;34m\u001b[0m\u001b[0m\n\u001b[0;32m-> 3348\u001b[0;31m     return Signature.from_callable(obj, follow_wrapped=follow_wrapped,\n\u001b[0m\u001b[1;32m   3349\u001b[0m                                    globals=globals, locals=locals, eval_str=eval_str)\n\u001b[1;32m   3350\u001b[0m \u001b[0;34m\u001b[0m\u001b[0m\n",
            "\u001b[0;32m/usr/lib/python3.12/inspect.py\u001b[0m in \u001b[0;36mfrom_callable\u001b[0;34m(cls, obj, follow_wrapped, globals, locals, eval_str)\u001b[0m\n\u001b[1;32m   3083\u001b[0m                       follow_wrapped=True, globals=None, locals=None, eval_str=False):\n\u001b[1;32m   3084\u001b[0m         \u001b[0;34m\"\"\"Constructs Signature for the given callable object.\"\"\"\u001b[0m\u001b[0;34m\u001b[0m\u001b[0;34m\u001b[0m\u001b[0m\n\u001b[0;32m-> 3085\u001b[0;31m         return _signature_from_callable(obj, sigcls=cls,\n\u001b[0m\u001b[1;32m   3086\u001b[0m                                         \u001b[0mfollow_wrapper_chains\u001b[0m\u001b[0;34m=\u001b[0m\u001b[0mfollow_wrapped\u001b[0m\u001b[0;34m,\u001b[0m\u001b[0;34m\u001b[0m\u001b[0;34m\u001b[0m\u001b[0m\n\u001b[1;32m   3087\u001b[0m                                         globals=globals, locals=locals, eval_str=eval_str)\n",
            "\u001b[0;32m/usr/lib/python3.12/inspect.py\u001b[0m in \u001b[0;36m_signature_from_callable\u001b[0;34m(obj, follow_wrapper_chains, skip_bound_arg, globals, locals, eval_str, sigcls)\u001b[0m\n\u001b[1;32m   2595\u001b[0m         \u001b[0;31m# If it's a pure Python function, or an object that is duck type\u001b[0m\u001b[0;34m\u001b[0m\u001b[0;34m\u001b[0m\u001b[0m\n\u001b[1;32m   2596\u001b[0m         \u001b[0;31m# of a Python function (Cython functions, for instance), then:\u001b[0m\u001b[0;34m\u001b[0m\u001b[0;34m\u001b[0m\u001b[0m\n\u001b[0;32m-> 2597\u001b[0;31m         return _signature_from_function(sigcls, obj,\n\u001b[0m\u001b[1;32m   2598\u001b[0m                                         \u001b[0mskip_bound_arg\u001b[0m\u001b[0;34m=\u001b[0m\u001b[0mskip_bound_arg\u001b[0m\u001b[0;34m,\u001b[0m\u001b[0;34m\u001b[0m\u001b[0;34m\u001b[0m\u001b[0m\n\u001b[1;32m   2599\u001b[0m                                         globals=globals, locals=locals, eval_str=eval_str)\n",
            "\u001b[0;32m/usr/lib/python3.12/inspect.py\u001b[0m in \u001b[0;36m_signature_from_function\u001b[0;34m(cls, func, skip_bound_arg, globals, locals, eval_str)\u001b[0m\n\u001b[1;32m   2466\u001b[0m         \u001b[0mdefault\u001b[0m \u001b[0;34m=\u001b[0m \u001b[0m_empty\u001b[0m\u001b[0;34m\u001b[0m\u001b[0;34m\u001b[0m\u001b[0m\n\u001b[1;32m   2467\u001b[0m         \u001b[0;32mif\u001b[0m \u001b[0mkwdefaults\u001b[0m \u001b[0;32mis\u001b[0m \u001b[0;32mnot\u001b[0m \u001b[0;32mNone\u001b[0m\u001b[0;34m:\u001b[0m\u001b[0;34m\u001b[0m\u001b[0;34m\u001b[0m\u001b[0m\n\u001b[0;32m-> 2468\u001b[0;31m             \u001b[0mdefault\u001b[0m \u001b[0;34m=\u001b[0m \u001b[0mkwdefaults\u001b[0m\u001b[0;34m.\u001b[0m\u001b[0mget\u001b[0m\u001b[0;34m(\u001b[0m\u001b[0mname\u001b[0m\u001b[0;34m,\u001b[0m \u001b[0m_empty\u001b[0m\u001b[0;34m)\u001b[0m\u001b[0;34m\u001b[0m\u001b[0;34m\u001b[0m\u001b[0m\n\u001b[0m\u001b[1;32m   2469\u001b[0m \u001b[0;34m\u001b[0m\u001b[0m\n\u001b[1;32m   2470\u001b[0m         \u001b[0mannotation\u001b[0m \u001b[0;34m=\u001b[0m \u001b[0mannotations\u001b[0m\u001b[0;34m.\u001b[0m\u001b[0mget\u001b[0m\u001b[0;34m(\u001b[0m\u001b[0mname\u001b[0m\u001b[0;34m,\u001b[0m \u001b[0m_empty\u001b[0m\u001b[0;34m)\u001b[0m\u001b[0;34m\u001b[0m\u001b[0;34m\u001b[0m\u001b[0m\n",
            "\u001b[0;31mKeyboardInterrupt\u001b[0m: "
          ]
        }
      ]
    },
    {
      "cell_type": "markdown",
      "source": [
        "### Plotting Machine Learning Data\n",
        "\n",
        "This code creates a bar graph showing whhich EEG frequency bands were most important for distinguishing MDD from HC. Each bar aims to represent the contribution of a frequency band to the model's accuracy, where a taller bar indicates stronger influence. As by the graph, we can see that the theta band shows the highest influence."
      ],
      "metadata": {
        "id": "ea9VIb2Z4OAP"
      }
    },
    {
      "cell_type": "code",
      "source": [
        "import matplotlib.pyplot as plt\n",
        "\n",
        "# Makes sure values are stroed as dictionaries with frequency band as keys\n",
        "bands = ['delta', 'theta', 'alpha', 'beta', 'gamma']\n",
        "\n",
        "if not isinstance(real_importances, dict):\n",
        "    real_importances = {band: float(val) for band, val in zip(bands, real_importances)}\n",
        "\n",
        "if not isinstance(p_values, dict):\n",
        "    p_values = {band: float(val) for band, val in zip(bands, p_values)}\n",
        "\n",
        "\n",
        "# --- Plot real importances ---\n",
        "plt.figure(figsize=(8, 5))\n",
        "bands = list(real_importances.keys())\n",
        "real_vals = [real_importances[b] for b in bands]\n",
        "pvals = [p_values[b] for b in bands]\n",
        "\n",
        "bars = plt.bar(bands, real_vals, color=\"skyblue\", edgecolor=\"black\")\n",
        "plt.axhline(0, color=\"black\", linewidth=0.8)\n",
        "plt.ylabel(\"Feature Importance (Mean Decrease in Accuracy)\")\n",
        "plt.title(\"Band Importances with Permutation p-values\")\n",
        "\n",
        "plt.show()"
      ],
      "metadata": {
        "colab": {
          "base_uri": "https://localhost:8080/",
          "height": 468
        },
        "id": "T3CNvgtis7QA",
        "outputId": "dccb83d2-1f27-4c82-fa13-d0b1e7937079"
      },
      "execution_count": null,
      "outputs": [
        {
          "output_type": "display_data",
          "data": {
            "text/plain": [
              "<Figure size 800x500 with 1 Axes>"
            ],
            "image/png": "[encoded data removed]"
          },
          "metadata": {}
        }
      ]
    },
    {
      "cell_type": "markdown",
      "source": [
        "The code below trains the same classifier model into a nul distribution of feature importances. This is essential as by comparing the null to the real importances allows us to determine which frequency bands are statistically informative rather than appearing important by chance."
      ],
      "metadata": {
        "id": "GEvIJ7yj42J3"
      }
    },
    {
      "cell_type": "code",
      "source": [
        "model = RandomForestClassifier(n_estimators=200, random_state=42)\n",
        "model.fit(X, y)\n",
        "baseline_acc = accuracy_score(y, model.predict(X))\n",
        "real_importances = dict(zip(bands, model.feature_importances_))\n",
        "\n",
        "n_permutations = 1000\n",
        "null_importances = {band: [] for band in bands}\n",
        "\n",
        "for i in range(n_permutations):\n",
        "    # Shuffle labels\n",
        "    y_perm = np.random.permutation(y)\n",
        "    model.fit(X, y_perm)\n",
        "\n",
        "    # Store permutation importances\n",
        "    importances_perm = model.feature_importances_\n",
        "    for j, band in enumerate(bands):\n",
        "        null_importances[band].append(importances_perm[j])\n",
        "\n",
        "# Convert to arrays\n",
        "for band in bands:\n",
        "    null_importances[band] = np.array(null_importances[band])"
      ],
      "metadata": {
        "id": "OR6RF0yGtyIj"
      },
      "execution_count": null,
      "outputs": []
    },
    {
      "cell_type": "markdown",
      "source": [
        "Thus, we plotted a histogram for all EEG frequency bands of feature importances obtained from shuffling labels to represent what would be expected by chance. The real importance is labled as a red dashed line. If the red line falls far outside of the histogram, it indicates that the frequency band contributes to distinguishing MDD from healthy ctonrols more than would be expected randomly.\n",
        "\n"
      ],
      "metadata": {
        "id": "iK1RGP2w4wDk"
      }
    },
    {
      "cell_type": "code",
      "source": [
        "# Loop through each frequency band\n",
        "for band in bands:\n",
        "    plt.figure(figsize=(6,4))\n",
        "\n",
        "    # Histogram of null importances for this band\n",
        "    plt.hist(null_importances[band], bins=20, color=\"lightgray\", edgecolor=\"black\")\n",
        "\n",
        "    # Add vertical line for the real importance\n",
        "    plt.axvline(real_importances[band], color=\"red\", linestyle=\"--\", linewidth=2,\n",
        "                label=f\"Real importance = {real_importances[band]:.3f}\")\n",
        "\n",
        "    # Title and labels\n",
        "    plt.title(f\"Null vs. Real Importances - {band}\")\n",
        "    plt.xlabel(\"Importance\")\n",
        "    plt.ylabel(\"Count\")\n",
        "    plt.legend()\n",
        "    plt.show()"
      ],
      "metadata": {
        "colab": {
          "base_uri": "https://localhost:8080/",
          "height": 1000
        },
        "id": "qCLaq7tkta7n",
        "outputId": "c0b91998-a123-4c4d-ec4c-4f63f694a841"
      },
      "execution_count": null,
      "outputs": [
        {
          "output_type": "display_data",
          "data": {
            "text/plain": [
              "<Figure size 600x400 with 1 Axes>"
            ],
            "image/png": "[encoded data removed]"
          },
          "metadata": {}
        },
        {
          "output_type": "display_data",
          "data": {
            "text/plain": [
              "<Figure size 600x400 with 1 Axes>"
            ],
            "image/png": "[encoded data removed]"
          },
          "metadata": {}
        },
        {
          "output_type": "display_data",
          "data": {
            "text/plain": [
              "<Figure size 600x400 with 1 Axes>"
            ],
            "image/png": "[encoded data removed]"
          },
          "metadata": {}
        },
        {
          "output_type": "display_data",
          "data": {
            "text/plain": [
              "<Figure size 600x400 with 1 Axes>"
            ],
            "image/png": "[encoded data removed]"
          },
          "metadata": {}
        },
        {
          "output_type": "display_data",
          "data": {
            "text/plain": [
              "<Figure size 600x400 with 1 Axes>"
            ],
            "image/png": "[encoded data removed]"
          },
          "metadata": {}
        }
      ]
    },
    {
      "cell_type": "markdown",
      "source": [
        "### Discussion\n",
        "\n",
        "While the delta band shows higher values in the null distribution, its real importance in model is smaller than theta. This indicates that the theta band linkly is more genuinely discriminative for separating MDD from healthy controls, whereas delta may be from reciving artifically high importance."
      ],
      "metadata": {
        "id": "XsTaqLWb6Rrb"
      }
    },
    {
      "cell_type": "markdown",
      "source": [
        "### In a biological context\n",
        "\n",
        "In our analysis, theta-band activity emerged as the most discriminative EEG feature for distinguishing MDD patients from healthy controls. Delta-band features, although frequently highlighted by the model in permutation tests, were less informative in the real data, suggesting that delta may reflect general EEG variability rather than MDD-specific differences.\n",
        "\n",
        "This finding aligns with prior EEG research that implicates frontal and midline theta rhythms in depression and further connects to clinical outcomes. For instance, de la Salle et al. (2020) reported that early treatment-related changes in prefrontal and midline right frontal theta cordance predicted antidepressant response in MDD patients. Together, these results reinforce the central role of theta-band activity in depression, with our study identifying it as a key diagnostic marker distinguishing patients from controls, and de la Salle et al.’s work highlighting its prognostic value for treatment outcomes.\n",
        "\n",
        "\n",
        "\n",
        "### Citations\n",
        "\n",
        "*de la Salle, S., Jaworska, N., Blier, P., Smith, D., & Knott, V. (2020, May 22). Using prefrontal and midline right frontal EEG-derived theta cordance and depressive symptoms to predict the differential response or remission to antidepressant treatment in major depressive disorder. Psychiatry Research: Neuroimaging.* https://www.sciencedirect.com/science/article/pii/S0925492720300810"
      ],
      "metadata": {
        "id": "o_D_0p2h6mID"
      }
    }
  ]
}